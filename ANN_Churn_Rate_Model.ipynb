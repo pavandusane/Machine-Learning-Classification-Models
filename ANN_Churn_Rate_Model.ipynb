{
  "nbformat": 4,
  "nbformat_minor": 0,
  "metadata": {
    "colab": {
      "name": "ANN Churn Rate Model.ipynb",
      "version": "0.3.2",
      "provenance": [],
      "include_colab_link": true
    },
    "kernelspec": {
      "name": "python3",
      "display_name": "Python 3"
    }
  },
  "cells": [
    {
      "cell_type": "markdown",
      "metadata": {
        "id": "view-in-github",
        "colab_type": "text"
      },
      "source": [
        "<a href=\"https://colab.research.google.com/github/sametgirgin/Machine-Learning-Classification-Models/blob/master/ANN_Churn_Rate_Model.ipynb\" target=\"_parent\"><img src=\"https://colab.research.google.com/assets/colab-badge.svg\" alt=\"Open In Colab\"/></a>"
      ]
    },
    {
      "cell_type": "code",
      "metadata": {
        "id": "yMwmG4jTo0EW",
        "colab_type": "code",
        "colab": {}
      },
      "source": [
        "import pandas as pd \n",
        "import numpy as np \n",
        "!pip install -q keras\n",
        "import keras"
      ],
      "execution_count": 0,
      "outputs": []
    },
    {
      "cell_type": "code",
      "metadata": {
        "id": "Q4uDA6wnN-9P",
        "colab_type": "code",
        "outputId": "c8cd222c-dcdd-49ad-d2cd-0b1d73c9ee2a",
        "colab": {
          "resources": {
            "http://localhost:8080/nbextensions/google.colab/files.js": {
              "data": "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",
              "ok": true,
              "headers": [
                [
                  "content-type",
                  "application/javascript"
                ]
              ],
              "status": 200,
              "status_text": ""
            }
          },
          "base_uri": "https://localhost:8080/",
          "height": 74
        }
      },
      "source": [
        "from google.colab import files \n",
        "uploaded= files.upload()"
      ],
      "execution_count": 60,
      "outputs": [
        {
          "output_type": "display_data",
          "data": {
            "text/html": [
              "\n",
              "     <input type=\"file\" id=\"files-ae0aa686-fce7-4688-90d7-32642a707186\" name=\"files[]\" multiple disabled />\n",
              "     <output id=\"result-ae0aa686-fce7-4688-90d7-32642a707186\">\n",
              "      Upload widget is only available when the cell has been executed in the\n",
              "      current browser session. Please rerun this cell to enable.\n",
              "      </output>\n",
              "      <script src=\"/nbextensions/google.colab/files.js\"></script> "
            ],
            "text/plain": [
              "<IPython.core.display.HTML object>"
            ]
          },
          "metadata": {
            "tags": []
          }
        },
        {
          "output_type": "stream",
          "text": [
            "Saving Churn_Modelling.csv to Churn_Modelling (3).csv\n"
          ],
          "name": "stdout"
        }
      ]
    },
    {
      "cell_type": "code",
      "metadata": {
        "id": "72riyX49OF66",
        "colab_type": "code",
        "colab": {}
      },
      "source": [
        "import io \n",
        "dataset = pd.read_csv(io.BytesIO(uploaded['Churn_Modelling.csv']))"
      ],
      "execution_count": 0,
      "outputs": []
    },
    {
      "cell_type": "code",
      "metadata": {
        "id": "GV0mTJRkO4sT",
        "colab_type": "code",
        "outputId": "1b5ee5f3-ca9f-4be0-d9a2-7b139a845143",
        "colab": {
          "base_uri": "https://localhost:8080/",
          "height": 204
        }
      },
      "source": [
        "dataset.head()"
      ],
      "execution_count": 62,
      "outputs": [
        {
          "output_type": "execute_result",
          "data": {
            "text/html": [
              "<div>\n",
              "<style scoped>\n",
              "    .dataframe tbody tr th:only-of-type {\n",
              "        vertical-align: middle;\n",
              "    }\n",
              "\n",
              "    .dataframe tbody tr th {\n",
              "        vertical-align: top;\n",
              "    }\n",
              "\n",
              "    .dataframe thead th {\n",
              "        text-align: right;\n",
              "    }\n",
              "</style>\n",
              "<table border=\"1\" class=\"dataframe\">\n",
              "  <thead>\n",
              "    <tr style=\"text-align: right;\">\n",
              "      <th></th>\n",
              "      <th>RowNumber</th>\n",
              "      <th>CustomerId</th>\n",
              "      <th>Surname</th>\n",
              "      <th>CreditScore</th>\n",
              "      <th>Geography</th>\n",
              "      <th>Gender</th>\n",
              "      <th>Age</th>\n",
              "      <th>Tenure</th>\n",
              "      <th>Balance</th>\n",
              "      <th>NumOfProducts</th>\n",
              "      <th>HasCrCard</th>\n",
              "      <th>IsActiveMember</th>\n",
              "      <th>EstimatedSalary</th>\n",
              "      <th>Exited</th>\n",
              "    </tr>\n",
              "  </thead>\n",
              "  <tbody>\n",
              "    <tr>\n",
              "      <th>0</th>\n",
              "      <td>1</td>\n",
              "      <td>15634602</td>\n",
              "      <td>Hargrave</td>\n",
              "      <td>619</td>\n",
              "      <td>France</td>\n",
              "      <td>Female</td>\n",
              "      <td>42</td>\n",
              "      <td>2</td>\n",
              "      <td>0.00</td>\n",
              "      <td>1</td>\n",
              "      <td>1</td>\n",
              "      <td>1</td>\n",
              "      <td>101348.88</td>\n",
              "      <td>1</td>\n",
              "    </tr>\n",
              "    <tr>\n",
              "      <th>1</th>\n",
              "      <td>2</td>\n",
              "      <td>15647311</td>\n",
              "      <td>Hill</td>\n",
              "      <td>608</td>\n",
              "      <td>Spain</td>\n",
              "      <td>Female</td>\n",
              "      <td>41</td>\n",
              "      <td>1</td>\n",
              "      <td>83807.86</td>\n",
              "      <td>1</td>\n",
              "      <td>0</td>\n",
              "      <td>1</td>\n",
              "      <td>112542.58</td>\n",
              "      <td>0</td>\n",
              "    </tr>\n",
              "    <tr>\n",
              "      <th>2</th>\n",
              "      <td>3</td>\n",
              "      <td>15619304</td>\n",
              "      <td>Onio</td>\n",
              "      <td>502</td>\n",
              "      <td>France</td>\n",
              "      <td>Female</td>\n",
              "      <td>42</td>\n",
              "      <td>8</td>\n",
              "      <td>159660.80</td>\n",
              "      <td>3</td>\n",
              "      <td>1</td>\n",
              "      <td>0</td>\n",
              "      <td>113931.57</td>\n",
              "      <td>1</td>\n",
              "    </tr>\n",
              "    <tr>\n",
              "      <th>3</th>\n",
              "      <td>4</td>\n",
              "      <td>15701354</td>\n",
              "      <td>Boni</td>\n",
              "      <td>699</td>\n",
              "      <td>France</td>\n",
              "      <td>Female</td>\n",
              "      <td>39</td>\n",
              "      <td>1</td>\n",
              "      <td>0.00</td>\n",
              "      <td>2</td>\n",
              "      <td>0</td>\n",
              "      <td>0</td>\n",
              "      <td>93826.63</td>\n",
              "      <td>0</td>\n",
              "    </tr>\n",
              "    <tr>\n",
              "      <th>4</th>\n",
              "      <td>5</td>\n",
              "      <td>15737888</td>\n",
              "      <td>Mitchell</td>\n",
              "      <td>850</td>\n",
              "      <td>Spain</td>\n",
              "      <td>Female</td>\n",
              "      <td>43</td>\n",
              "      <td>2</td>\n",
              "      <td>125510.82</td>\n",
              "      <td>1</td>\n",
              "      <td>1</td>\n",
              "      <td>1</td>\n",
              "      <td>79084.10</td>\n",
              "      <td>0</td>\n",
              "    </tr>\n",
              "  </tbody>\n",
              "</table>\n",
              "</div>"
            ],
            "text/plain": [
              "   RowNumber  CustomerId   Surname  ...  IsActiveMember EstimatedSalary Exited\n",
              "0          1    15634602  Hargrave  ...               1       101348.88      1\n",
              "1          2    15647311      Hill  ...               1       112542.58      0\n",
              "2          3    15619304      Onio  ...               0       113931.57      1\n",
              "3          4    15701354      Boni  ...               0        93826.63      0\n",
              "4          5    15737888  Mitchell  ...               1        79084.10      0\n",
              "\n",
              "[5 rows x 14 columns]"
            ]
          },
          "metadata": {
            "tags": []
          },
          "execution_count": 62
        }
      ]
    },
    {
      "cell_type": "code",
      "metadata": {
        "id": "e5dtEAoVd8MG",
        "colab_type": "code",
        "colab": {}
      },
      "source": [
        "X = dataset.iloc[:, 3:13].values\n",
        "y = dataset.iloc[:, 13].values"
      ],
      "execution_count": 0,
      "outputs": []
    },
    {
      "cell_type": "code",
      "metadata": {
        "id": "1mznQHM8j2Hn",
        "colab_type": "code",
        "colab": {
          "base_uri": "https://localhost:8080/",
          "height": 139
        },
        "outputId": "7603527c-5ee4-4a19-f425-331a33184b00"
      },
      "source": [
        "from sklearn.preprocessing import LabelEncoder, OneHotEncoder\n",
        "labelencoder_X_1 = LabelEncoder()\n",
        "X[:, 1] = labelencoder_X_1.fit_transform(X[:, 1])\n",
        "labelencoder_X_2 = LabelEncoder()\n",
        "X[:, 2] = labelencoder_X_2.fit_transform(X[:, 2])\n",
        "onehotencoder = OneHotEncoder(categorical_features = [1])\n",
        "X = onehotencoder.fit_transform(X).toarray()\n",
        "X = X[:, 1:]"
      ],
      "execution_count": 64,
      "outputs": [
        {
          "output_type": "stream",
          "text": [
            "/usr/local/lib/python3.6/dist-packages/sklearn/preprocessing/_encoders.py:415: FutureWarning: The handling of integer data will change in version 0.22. Currently, the categories are determined based on the range [0, max(values)], while in the future they will be determined based on the unique values.\n",
            "If you want the future behaviour and silence this warning, you can specify \"categories='auto'\".\n",
            "In case you used a LabelEncoder before this OneHotEncoder to convert the categories to integers, then you can now use the OneHotEncoder directly.\n",
            "  warnings.warn(msg, FutureWarning)\n",
            "/usr/local/lib/python3.6/dist-packages/sklearn/preprocessing/_encoders.py:451: DeprecationWarning: The 'categorical_features' keyword is deprecated in version 0.20 and will be removed in 0.22. You can use the ColumnTransformer instead.\n",
            "  \"use the ColumnTransformer instead.\", DeprecationWarning)\n"
          ],
          "name": "stderr"
        }
      ]
    },
    {
      "cell_type": "code",
      "metadata": {
        "id": "wJAfdQluj4-H",
        "colab_type": "code",
        "colab": {}
      },
      "source": [
        "# Splitting the dataset into the Training set and Test set\n",
        "from sklearn.model_selection import train_test_split\n",
        "X_train, X_test, y_train, y_test = train_test_split(X, y, test_size = 0.2, random_state = 0)"
      ],
      "execution_count": 0,
      "outputs": []
    },
    {
      "cell_type": "code",
      "metadata": {
        "id": "K1UfkoXvj9Kf",
        "colab_type": "code",
        "colab": {}
      },
      "source": [
        "# Feature Scaling\n",
        "from sklearn.preprocessing import StandardScaler\n",
        "sc = StandardScaler()\n",
        "X_train = sc.fit_transform(X_train)\n",
        "X_test = sc.transform(X_test)"
      ],
      "execution_count": 0,
      "outputs": []
    },
    {
      "cell_type": "code",
      "metadata": {
        "id": "NUq763PKkK6h",
        "colab_type": "code",
        "colab": {}
      },
      "source": [
        "!pip install -q keras\n",
        "import keras\n",
        "from keras.models import Sequential\n",
        "from keras.layers import Dense"
      ],
      "execution_count": 0,
      "outputs": []
    },
    {
      "cell_type": "code",
      "metadata": {
        "id": "4G3VpFYXnkCj",
        "colab_type": "code",
        "colab": {}
      },
      "source": [
        "# Initialising the ANN\n",
        "classifier = Sequential()"
      ],
      "execution_count": 0,
      "outputs": []
    },
    {
      "cell_type": "code",
      "metadata": {
        "id": "uDLNUv3entz-",
        "colab_type": "code",
        "colab": {
          "base_uri": "https://localhost:8080/",
          "height": 71
        },
        "outputId": "101ca265-bb4b-48d6-9a00-6e007c35347e"
      },
      "source": [
        "classifier.add(Dense(output_dim = 6, init = 'uniform', activation = 'relu', input_dim = 11))"
      ],
      "execution_count": 70,
      "outputs": [
        {
          "output_type": "stream",
          "text": [
            "/usr/local/lib/python3.6/dist-packages/ipykernel_launcher.py:1: UserWarning: Update your `Dense` call to the Keras 2 API: `Dense(activation=\"relu\", input_dim=11, units=6, kernel_initializer=\"uniform\")`\n",
            "  \"\"\"Entry point for launching an IPython kernel.\n"
          ],
          "name": "stderr"
        }
      ]
    },
    {
      "cell_type": "code",
      "metadata": {
        "id": "2-JSSOKf3yyt",
        "colab_type": "code",
        "colab": {
          "base_uri": "https://localhost:8080/",
          "height": 71
        },
        "outputId": "4dad9e97-bd93-41e9-ff12-161851609484"
      },
      "source": [
        "classifier.add(Dense(output_dim = 6, init = 'uniform', activation = 'relu'))"
      ],
      "execution_count": 71,
      "outputs": [
        {
          "output_type": "stream",
          "text": [
            "/usr/local/lib/python3.6/dist-packages/ipykernel_launcher.py:1: UserWarning: Update your `Dense` call to the Keras 2 API: `Dense(activation=\"relu\", units=6, kernel_initializer=\"uniform\")`\n",
            "  \"\"\"Entry point for launching an IPython kernel.\n"
          ],
          "name": "stderr"
        }
      ]
    },
    {
      "cell_type": "code",
      "metadata": {
        "id": "QVyd_i4RPxLy",
        "colab_type": "code",
        "colab": {
          "base_uri": "https://localhost:8080/",
          "height": 71
        },
        "outputId": "83edc249-9729-45e8-a912-4a0b60774e04"
      },
      "source": [
        "classifier.add(Dense(output_dim = 1, init = \"uniform\", activation=\"sigmoid\"))"
      ],
      "execution_count": 72,
      "outputs": [
        {
          "output_type": "stream",
          "text": [
            "/usr/local/lib/python3.6/dist-packages/ipykernel_launcher.py:1: UserWarning: Update your `Dense` call to the Keras 2 API: `Dense(activation=\"sigmoid\", units=1, kernel_initializer=\"uniform\")`\n",
            "  \"\"\"Entry point for launching an IPython kernel.\n"
          ],
          "name": "stderr"
        }
      ]
    },
    {
      "cell_type": "code",
      "metadata": {
        "id": "FD_DewPePxld",
        "colab_type": "code",
        "colab": {}
      },
      "source": [
        "# Compiling the ANN\n",
        "classifier.compile(optimizer=\"adam\", loss=\"binary_crossentropy\", metrics=[\"accuracy\"])"
      ],
      "execution_count": 0,
      "outputs": []
    },
    {
      "cell_type": "code",
      "metadata": {
        "id": "nAd9L8XKeTGl",
        "colab_type": "code",
        "colab": {
          "base_uri": "https://localhost:8080/",
          "height": 1000
        },
        "outputId": "bf02ea8e-8d84-42a0-f37f-bd9dd23f3c0a"
      },
      "source": [
        "classifier.fit(X_train, y_train, batch_size=10, nb_epoch= 100)"
      ],
      "execution_count": 75,
      "outputs": [
        {
          "output_type": "stream",
          "text": [
            "WARNING:tensorflow:From /usr/local/lib/python3.6/dist-packages/keras/backend/tensorflow_backend.py:1033: The name tf.assign_add is deprecated. Please use tf.compat.v1.assign_add instead.\n",
            "\n"
          ],
          "name": "stdout"
        },
        {
          "output_type": "stream",
          "text": [
            "/usr/local/lib/python3.6/dist-packages/ipykernel_launcher.py:1: UserWarning: The `nb_epoch` argument in `fit` has been renamed `epochs`.\n",
            "  \"\"\"Entry point for launching an IPython kernel.\n"
          ],
          "name": "stderr"
        },
        {
          "output_type": "stream",
          "text": [
            "Epoch 1/100\n",
            "8000/8000 [==============================] - 2s 195us/step - loss: 0.4886 - acc: 0.7956\n",
            "Epoch 2/100\n",
            "8000/8000 [==============================] - 1s 107us/step - loss: 0.4296 - acc: 0.7960\n",
            "Epoch 3/100\n",
            "8000/8000 [==============================] - 1s 107us/step - loss: 0.4244 - acc: 0.7960\n",
            "Epoch 4/100\n",
            "8000/8000 [==============================] - 1s 110us/step - loss: 0.4195 - acc: 0.8127\n",
            "Epoch 5/100\n",
            "8000/8000 [==============================] - 1s 106us/step - loss: 0.4163 - acc: 0.8237\n",
            "Epoch 6/100\n",
            "8000/8000 [==============================] - 1s 113us/step - loss: 0.4141 - acc: 0.8312\n",
            "Epoch 7/100\n",
            "8000/8000 [==============================] - 1s 109us/step - loss: 0.4121 - acc: 0.8305\n",
            "Epoch 8/100\n",
            "8000/8000 [==============================] - 1s 106us/step - loss: 0.4107 - acc: 0.8324\n",
            "Epoch 9/100\n",
            "8000/8000 [==============================] - 1s 106us/step - loss: 0.4098 - acc: 0.8317\n",
            "Epoch 10/100\n",
            "8000/8000 [==============================] - 1s 112us/step - loss: 0.4084 - acc: 0.8330\n",
            "Epoch 11/100\n",
            "8000/8000 [==============================] - 1s 112us/step - loss: 0.4078 - acc: 0.8344\n",
            "Epoch 12/100\n",
            "8000/8000 [==============================] - 1s 108us/step - loss: 0.4065 - acc: 0.8344\n",
            "Epoch 13/100\n",
            "8000/8000 [==============================] - 1s 110us/step - loss: 0.4061 - acc: 0.8341\n",
            "Epoch 14/100\n",
            "8000/8000 [==============================] - 1s 109us/step - loss: 0.4055 - acc: 0.8350\n",
            "Epoch 15/100\n",
            "8000/8000 [==============================] - 1s 109us/step - loss: 0.4050 - acc: 0.8350\n",
            "Epoch 16/100\n",
            "8000/8000 [==============================] - 1s 107us/step - loss: 0.4048 - acc: 0.8339\n",
            "Epoch 17/100\n",
            "8000/8000 [==============================] - 1s 107us/step - loss: 0.4051 - acc: 0.8336\n",
            "Epoch 18/100\n",
            "8000/8000 [==============================] - 1s 110us/step - loss: 0.4046 - acc: 0.8359\n",
            "Epoch 19/100\n",
            "8000/8000 [==============================] - 1s 112us/step - loss: 0.4043 - acc: 0.8346\n",
            "Epoch 20/100\n",
            "8000/8000 [==============================] - 1s 110us/step - loss: 0.4038 - acc: 0.8339\n",
            "Epoch 21/100\n",
            "8000/8000 [==============================] - 1s 111us/step - loss: 0.4031 - acc: 0.8359\n",
            "Epoch 22/100\n",
            "8000/8000 [==============================] - 1s 113us/step - loss: 0.4030 - acc: 0.8342\n",
            "Epoch 23/100\n",
            "8000/8000 [==============================] - 1s 109us/step - loss: 0.4031 - acc: 0.8349\n",
            "Epoch 24/100\n",
            "8000/8000 [==============================] - 1s 109us/step - loss: 0.4031 - acc: 0.8347\n",
            "Epoch 25/100\n",
            "8000/8000 [==============================] - 1s 107us/step - loss: 0.4030 - acc: 0.8339\n",
            "Epoch 26/100\n",
            "8000/8000 [==============================] - 1s 105us/step - loss: 0.4026 - acc: 0.8351\n",
            "Epoch 27/100\n",
            "8000/8000 [==============================] - 1s 108us/step - loss: 0.4022 - acc: 0.8355\n",
            "Epoch 28/100\n",
            "8000/8000 [==============================] - 1s 109us/step - loss: 0.4021 - acc: 0.8355\n",
            "Epoch 29/100\n",
            "8000/8000 [==============================] - 1s 107us/step - loss: 0.4025 - acc: 0.8340\n",
            "Epoch 30/100\n",
            "8000/8000 [==============================] - 1s 107us/step - loss: 0.4025 - acc: 0.8342\n",
            "Epoch 31/100\n",
            "8000/8000 [==============================] - 1s 107us/step - loss: 0.4021 - acc: 0.8349\n",
            "Epoch 32/100\n",
            "8000/8000 [==============================] - 1s 109us/step - loss: 0.4018 - acc: 0.8347\n",
            "Epoch 33/100\n",
            "8000/8000 [==============================] - 1s 110us/step - loss: 0.4017 - acc: 0.8336\n",
            "Epoch 34/100\n",
            "8000/8000 [==============================] - 1s 109us/step - loss: 0.4020 - acc: 0.8352\n",
            "Epoch 35/100\n",
            "8000/8000 [==============================] - 1s 110us/step - loss: 0.4015 - acc: 0.8365\n",
            "Epoch 36/100\n",
            "8000/8000 [==============================] - 1s 107us/step - loss: 0.4012 - acc: 0.8344\n",
            "Epoch 37/100\n",
            "8000/8000 [==============================] - 1s 107us/step - loss: 0.4018 - acc: 0.8332\n",
            "Epoch 38/100\n",
            "8000/8000 [==============================] - 1s 106us/step - loss: 0.4018 - acc: 0.8349\n",
            "Epoch 39/100\n",
            "8000/8000 [==============================] - 1s 107us/step - loss: 0.4009 - acc: 0.8349\n",
            "Epoch 40/100\n",
            "8000/8000 [==============================] - 1s 109us/step - loss: 0.4010 - acc: 0.8342\n",
            "Epoch 41/100\n",
            "8000/8000 [==============================] - 1s 109us/step - loss: 0.4015 - acc: 0.8347\n",
            "Epoch 42/100\n",
            "8000/8000 [==============================] - 1s 110us/step - loss: 0.4013 - acc: 0.8357\n",
            "Epoch 43/100\n",
            "8000/8000 [==============================] - 1s 111us/step - loss: 0.4014 - acc: 0.8349\n",
            "Epoch 44/100\n",
            "8000/8000 [==============================] - 1s 110us/step - loss: 0.4018 - acc: 0.8345\n",
            "Epoch 45/100\n",
            "8000/8000 [==============================] - 1s 106us/step - loss: 0.4014 - acc: 0.8337\n",
            "Epoch 46/100\n",
            "8000/8000 [==============================] - 1s 106us/step - loss: 0.4012 - acc: 0.8356\n",
            "Epoch 47/100\n",
            "8000/8000 [==============================] - 1s 108us/step - loss: 0.4014 - acc: 0.8335\n",
            "Epoch 48/100\n",
            "8000/8000 [==============================] - 1s 109us/step - loss: 0.4008 - acc: 0.8350\n",
            "Epoch 49/100\n",
            "8000/8000 [==============================] - 1s 110us/step - loss: 0.4006 - acc: 0.8354\n",
            "Epoch 50/100\n",
            "8000/8000 [==============================] - 1s 108us/step - loss: 0.4010 - acc: 0.8347\n",
            "Epoch 51/100\n",
            "8000/8000 [==============================] - 1s 113us/step - loss: 0.4011 - acc: 0.8347\n",
            "Epoch 52/100\n",
            "8000/8000 [==============================] - 1s 110us/step - loss: 0.4009 - acc: 0.8344\n",
            "Epoch 53/100\n",
            "8000/8000 [==============================] - 1s 109us/step - loss: 0.4007 - acc: 0.8334\n",
            "Epoch 54/100\n",
            "8000/8000 [==============================] - 1s 111us/step - loss: 0.4009 - acc: 0.8350\n",
            "Epoch 55/100\n",
            "8000/8000 [==============================] - 1s 112us/step - loss: 0.4004 - acc: 0.8342\n",
            "Epoch 56/100\n",
            "8000/8000 [==============================] - 1s 109us/step - loss: 0.4006 - acc: 0.8350\n",
            "Epoch 57/100\n",
            "8000/8000 [==============================] - 1s 108us/step - loss: 0.4009 - acc: 0.8334\n",
            "Epoch 58/100\n",
            "8000/8000 [==============================] - 1s 110us/step - loss: 0.4010 - acc: 0.8347\n",
            "Epoch 59/100\n",
            "8000/8000 [==============================] - 1s 105us/step - loss: 0.4003 - acc: 0.8355\n",
            "Epoch 60/100\n",
            "8000/8000 [==============================] - 1s 107us/step - loss: 0.4006 - acc: 0.8337\n",
            "Epoch 61/100\n",
            "8000/8000 [==============================] - 1s 110us/step - loss: 0.4004 - acc: 0.8352\n",
            "Epoch 62/100\n",
            "8000/8000 [==============================] - 1s 108us/step - loss: 0.4002 - acc: 0.8349\n",
            "Epoch 63/100\n",
            "8000/8000 [==============================] - 1s 106us/step - loss: 0.4004 - acc: 0.8345\n",
            "Epoch 64/100\n",
            "8000/8000 [==============================] - 1s 104us/step - loss: 0.4002 - acc: 0.8355\n",
            "Epoch 65/100\n",
            "8000/8000 [==============================] - 1s 106us/step - loss: 0.4006 - acc: 0.8336\n",
            "Epoch 66/100\n",
            "8000/8000 [==============================] - 1s 106us/step - loss: 0.4001 - acc: 0.8355\n",
            "Epoch 67/100\n",
            "8000/8000 [==============================] - 1s 106us/step - loss: 0.4008 - acc: 0.8366\n",
            "Epoch 68/100\n",
            "8000/8000 [==============================] - 1s 108us/step - loss: 0.4005 - acc: 0.8344\n",
            "Epoch 69/100\n",
            "8000/8000 [==============================] - 1s 107us/step - loss: 0.4004 - acc: 0.8350\n",
            "Epoch 70/100\n",
            "8000/8000 [==============================] - 1s 107us/step - loss: 0.4007 - acc: 0.8347\n",
            "Epoch 71/100\n",
            "8000/8000 [==============================] - 1s 108us/step - loss: 0.3999 - acc: 0.8369\n",
            "Epoch 72/100\n",
            "8000/8000 [==============================] - 1s 109us/step - loss: 0.4003 - acc: 0.8337\n",
            "Epoch 73/100\n",
            "8000/8000 [==============================] - 1s 108us/step - loss: 0.3999 - acc: 0.8354\n",
            "Epoch 74/100\n",
            "8000/8000 [==============================] - 1s 111us/step - loss: 0.4004 - acc: 0.8359\n",
            "Epoch 75/100\n",
            "8000/8000 [==============================] - 1s 107us/step - loss: 0.4002 - acc: 0.8342\n",
            "Epoch 76/100\n",
            "8000/8000 [==============================] - 1s 105us/step - loss: 0.4002 - acc: 0.8342\n",
            "Epoch 77/100\n",
            "8000/8000 [==============================] - 1s 105us/step - loss: 0.4006 - acc: 0.8331\n",
            "Epoch 78/100\n",
            "8000/8000 [==============================] - 1s 106us/step - loss: 0.3999 - acc: 0.8337\n",
            "Epoch 79/100\n",
            "8000/8000 [==============================] - 1s 110us/step - loss: 0.4004 - acc: 0.8347\n",
            "Epoch 80/100\n",
            "8000/8000 [==============================] - 1s 110us/step - loss: 0.4004 - acc: 0.8347\n",
            "Epoch 81/100\n",
            "8000/8000 [==============================] - 1s 107us/step - loss: 0.4002 - acc: 0.8329\n",
            "Epoch 82/100\n",
            "8000/8000 [==============================] - 1s 120us/step - loss: 0.4001 - acc: 0.8351\n",
            "Epoch 83/100\n",
            "8000/8000 [==============================] - 1s 116us/step - loss: 0.4006 - acc: 0.8352\n",
            "Epoch 84/100\n",
            "8000/8000 [==============================] - 1s 107us/step - loss: 0.4004 - acc: 0.8350\n",
            "Epoch 85/100\n",
            "8000/8000 [==============================] - 1s 106us/step - loss: 0.3999 - acc: 0.8364\n",
            "Epoch 86/100\n",
            "8000/8000 [==============================] - 1s 107us/step - loss: 0.3999 - acc: 0.8349\n",
            "Epoch 87/100\n",
            "8000/8000 [==============================] - 1s 106us/step - loss: 0.4005 - acc: 0.8355\n",
            "Epoch 88/100\n",
            "8000/8000 [==============================] - 1s 106us/step - loss: 0.4003 - acc: 0.8351\n",
            "Epoch 89/100\n",
            "8000/8000 [==============================] - 1s 107us/step - loss: 0.4003 - acc: 0.8342\n",
            "Epoch 90/100\n",
            "8000/8000 [==============================] - 1s 106us/step - loss: 0.4003 - acc: 0.8339\n",
            "Epoch 91/100\n",
            "8000/8000 [==============================] - 1s 107us/step - loss: 0.4002 - acc: 0.8352\n",
            "Epoch 92/100\n",
            "8000/8000 [==============================] - 1s 104us/step - loss: 0.4000 - acc: 0.8360\n",
            "Epoch 93/100\n",
            "8000/8000 [==============================] - 1s 109us/step - loss: 0.4000 - acc: 0.8349\n",
            "Epoch 94/100\n",
            "8000/8000 [==============================] - 1s 111us/step - loss: 0.4004 - acc: 0.8342\n",
            "Epoch 95/100\n",
            "8000/8000 [==============================] - 1s 107us/step - loss: 0.3998 - acc: 0.8346\n",
            "Epoch 96/100\n",
            "8000/8000 [==============================] - 1s 104us/step - loss: 0.4002 - acc: 0.8317\n",
            "Epoch 97/100\n",
            "8000/8000 [==============================] - 1s 107us/step - loss: 0.4000 - acc: 0.8340\n",
            "Epoch 98/100\n",
            "8000/8000 [==============================] - 1s 119us/step - loss: 0.4001 - acc: 0.8354\n",
            "Epoch 99/100\n",
            "8000/8000 [==============================] - 1s 107us/step - loss: 0.4002 - acc: 0.8349\n",
            "Epoch 100/100\n",
            "8000/8000 [==============================] - 1s 107us/step - loss: 0.3998 - acc: 0.8340\n"
          ],
          "name": "stdout"
        },
        {
          "output_type": "execute_result",
          "data": {
            "text/plain": [
              "<keras.callbacks.History at 0x7f800d63f240>"
            ]
          },
          "metadata": {
            "tags": []
          },
          "execution_count": 75
        }
      ]
    },
    {
      "cell_type": "code",
      "metadata": {
        "id": "yg7hwXz5jiX_",
        "colab_type": "code",
        "colab": {}
      },
      "source": [
        "y_pred = classifier.predict(X_test)"
      ],
      "execution_count": 0,
      "outputs": []
    },
    {
      "cell_type": "code",
      "metadata": {
        "id": "ngt-WNH9jwLn",
        "colab_type": "code",
        "colab": {
          "base_uri": "https://localhost:8080/",
          "height": 136
        },
        "outputId": "f129525c-ac41-4466-b0f8-6c5379c9e378"
      },
      "source": [
        "y_pred"
      ],
      "execution_count": 77,
      "outputs": [
        {
          "output_type": "execute_result",
          "data": {
            "text/plain": [
              "array([[0.18625706],\n",
              "       [0.32718825],\n",
              "       [0.14960188],\n",
              "       ...,\n",
              "       [0.1754008 ],\n",
              "       [0.1933479 ],\n",
              "       [0.08562708]], dtype=float32)"
            ]
          },
          "metadata": {
            "tags": []
          },
          "execution_count": 77
        }
      ]
    },
    {
      "cell_type": "code",
      "metadata": {
        "id": "Bt0WeOOEj7jK",
        "colab_type": "code",
        "colab": {}
      },
      "source": [
        "y_pred = (y_pred > 0.5)"
      ],
      "execution_count": 0,
      "outputs": []
    },
    {
      "cell_type": "code",
      "metadata": {
        "id": "Ie4JkNqAmQI5",
        "colab_type": "code",
        "colab": {
          "base_uri": "https://localhost:8080/",
          "height": 136
        },
        "outputId": "d0a680bb-16d5-4bd4-fe8f-ee352df00414"
      },
      "source": [
        "y_pred"
      ],
      "execution_count": 79,
      "outputs": [
        {
          "output_type": "execute_result",
          "data": {
            "text/plain": [
              "array([[False],\n",
              "       [False],\n",
              "       [False],\n",
              "       ...,\n",
              "       [False],\n",
              "       [False],\n",
              "       [False]])"
            ]
          },
          "metadata": {
            "tags": []
          },
          "execution_count": 79
        }
      ]
    },
    {
      "cell_type": "code",
      "metadata": {
        "id": "k8TiUbuamYe3",
        "colab_type": "code",
        "colab": {}
      },
      "source": [
        "from sklearn.metrics import confusion_matrix\n",
        "cm = confusion_matrix(y_test, y_pred)"
      ],
      "execution_count": 0,
      "outputs": []
    },
    {
      "cell_type": "code",
      "metadata": {
        "id": "ErT0aJ07m4vM",
        "colab_type": "code",
        "colab": {
          "base_uri": "https://localhost:8080/",
          "height": 51
        },
        "outputId": "d639107f-8b69-4b52-b6b6-3e68e0561841"
      },
      "source": [
        "cm"
      ],
      "execution_count": 81,
      "outputs": [
        {
          "output_type": "execute_result",
          "data": {
            "text/plain": [
              "array([[1552,   43],\n",
              "       [ 278,  127]])"
            ]
          },
          "metadata": {
            "tags": []
          },
          "execution_count": 81
        }
      ]
    },
    {
      "cell_type": "code",
      "metadata": {
        "id": "1v9wN-Cem5OQ",
        "colab_type": "code",
        "colab": {}
      },
      "source": [
        ""
      ],
      "execution_count": 0,
      "outputs": []
    }
  ]
}